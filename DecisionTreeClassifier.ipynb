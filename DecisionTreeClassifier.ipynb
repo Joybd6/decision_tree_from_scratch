{
  "nbformat": 4,
  "nbformat_minor": 0,
  "metadata": {
    "colab": {
      "provenance": []
    },
    "kernelspec": {
      "name": "python3",
      "display_name": "Python 3"
    },
    "language_info": {
      "name": "python"
    }
  },
  "cells": [
    {
      "cell_type": "markdown",
      "source": [
        "Decision Tree Classifier.\n",
        "All the algorithm -ID3, C4.5 and CART are implemented here"
      ],
      "metadata": {
        "id": "iUuJmjs4M0c9"
      }
    },
    {
      "cell_type": "code",
      "execution_count": null,
      "metadata": {
        "id": "dA6fdFwLpYOm"
      },
      "outputs": [],
      "source": [
        "import numpy as np\n",
        "import pandas as pd\n",
        "from graphviz import Digraph"
      ]
    },
    {
      "cell_type": "code",
      "source": [
        "class DecisionTreeClassifier:\n",
        "  \n",
        "\n",
        "  ## Constructor for the Decision Tree Classifier Class\n",
        "  def __init__(self,algorithm):\n",
        "    self.__node_list={}\n",
        "    self.__value= None\n",
        "    self.__column = None\n",
        "    self.__algorithm_dic={\"CART\":self.__CART,\"ID3\":self.__ID3,\"C4.5\":self.__C45}\n",
        "    \n",
        "    if algorithm not in [\"CART\",\"ID3\",\"C4.5\"]:\n",
        "      raise Exception(\"Invalid value of 'algorithm'. Possible Value: 'CART', 'ID3', 'C4.5'\")\n",
        "    else:\n",
        "      self.__algorithm = algorithm\n",
        "\n",
        "  ### Some Helper Function\n",
        "  ##Entropy Function\n",
        "\n",
        "  def __calEntropy(self,X,Y=None):\n",
        "    X_unique,X_counts = np.unique(X,return_counts=True)\n",
        "\n",
        "    if Y is None:\n",
        "      res = X_counts/np.sum(X_counts)\n",
        "      res = res*np.log2(res)\n",
        "      return -np.sum(res)\n",
        "    if Y is not None:\n",
        "      res=0\n",
        "      for i,j in zip(X_unique,X_counts):\n",
        "        Y_unique,Y_counts = np.unique(Y[X==i],return_counts=True)\n",
        "        Y_counts = Y_counts/np.sum(Y_counts)\n",
        "        Y_counts = Y_counts*np.log2(Y_counts)\n",
        "        Y_counts = -np.sum(Y_counts)\n",
        "        res = res + (j/np.sum(X_counts))*Y_counts\n",
        "      return res\n",
        "\n",
        "  ## Function for calculating Gain\n",
        "  def __calGain(self,column):\n",
        "    E_s = self.__calEntropy(X=self.y)\n",
        "    res = self.__calEntropy(self.X_train[:,column],self.y)\n",
        "    res = E_s-res\n",
        "    return res\n",
        "\n",
        "  ## Function for calculating Gini\n",
        "  def __calGini(self,column):\n",
        "    res = 0\n",
        "    a,b=np.unique(self.X_train[:,column],return_counts=True)\n",
        "    for i,j in zip(a,b):\n",
        "      Y_unique,counts = np.unique(self.y[self.X_train[:,column]==i],return_counts=True)\n",
        "      counts = counts/np.sum(counts)\n",
        "      counts = counts*counts\n",
        "      counts = 1 - counts.sum()\n",
        "      res = res + (j/self.X_train.size)*counts\n",
        "    return res\n",
        "\n",
        "  ### ID3 algorithm\n",
        "  def __ID3(self):\n",
        "    gains=np.array([])\n",
        "    for i in range(self.X_train[0].size):\n",
        "      gain = self.__calGain(i)\n",
        "      gains = np.append(gains,[gain],axis=0)\n",
        "    print(gains)\n",
        "    print(\"-----------------------\")\n",
        "    return np.argmax(gains)\n",
        "  \n",
        "  ### C4.5 algorithm\n",
        "  def __C45(self):\n",
        "    gains = np.array([])\n",
        "    for i in range(self.X_train[0].size):\n",
        "      gain = self.__calGain(i)\n",
        "      gains = np.append(gains,[gain],axis=0)\n",
        "\n",
        "    #print(gains)\n",
        "    split_infos = np.array([])\n",
        "    for i in range(self.X_train[0].size):\n",
        "      split_info = self.__calEntropy(X=self.X_train[:,i])\n",
        "      split_infos= np.append(split_infos,[split_info],axis=0)\n",
        "    #print(split_infos)\n",
        "    gain_ratio = gains/split_infos\n",
        "    return np.argmax(gain_ratio)\n",
        "  \n",
        "  ### CART algorithm\n",
        "  def __CART(self):\n",
        "    ginis=np.array([])\n",
        "    for i in range(self.X_train[0].size):\n",
        "      gini = self.__calGini(i)\n",
        "      ginis = np.append(ginis,[gini],axis=0)\n",
        "    #print(ginis)\n",
        "    return np.argmin(ginis)\n",
        "\n",
        "  ### Build method is used here with fit method to build the entire decision tree\n",
        "  def __build(self,X_train,y):\n",
        "    self.X_train=X_train\n",
        "    self.y=y\n",
        "    if X_train.size == 0:\n",
        "      return\n",
        "    elif X_train[0].size == 1:\n",
        "      most_frequent_value,counts = np.unique(y,return_counts=True)\n",
        "      most_frequent_value = most_frequent_value[counts==counts.max()]\n",
        "      self.__value=most_frequent_value[0]\n",
        "      self.__column=0\n",
        "    elif np.unique(y).size == 1:\n",
        "      self.__value = y[0]\n",
        "    else:\n",
        "      self.__column = self.__algorithm_dic[self.__algorithm]()\n",
        "      for i in np.unique(X_train[:,self.__column],axis=0):\n",
        "        self.__node_list[i]=DecisionTreeClassifier(self.__algorithm)\n",
        "        X_pass_data = X_train[X_train[:,self.__column]==i]\n",
        "        X_pass_data = np.delete(X_pass_data,self.__column,axis=1)\n",
        "        y_pass_data = y[X_train[:,self.__column]==i]\n",
        "        self.__node_list[i].__build(X_pass_data,y_pass_data)\n",
        "        #print(self.__column)\n",
        "    del self.X_train\n",
        "    del self.y\n",
        "\n",
        "\n",
        "\n",
        "  ### Method for training the classifier\n",
        "  def fit(self,X,y):\n",
        "    if type(X) != np.ndarray:\n",
        "      raise Exception(\"The X variable should be a numpy 2 dimensional array\")\n",
        "    if type(y) != np.ndarray:\n",
        "      raise Exception(\"The y variable should be a numpy array\")\n",
        "    if X.ndim != 2:\n",
        "      raise Exception(\"The numpy array should be 2 dimensional\")\n",
        "    self.__build(X,y)\n",
        "    print(\"Model Training is done\")\n",
        "\n",
        "  ### Method for predicting the output\n",
        "  def __pred(self,x):\n",
        "    if self.__value is None and self.__column is None:\n",
        "      raise Exception(\"You have to first train the model\")\n",
        "    \n",
        "    if type(x) is not np.ndarray:\n",
        "      raise Exception(\"Input Invalid. Input must be numpy 2 dimensional array\")\n",
        "\n",
        "    if self.__value is not None:\n",
        "      return self.__value\n",
        "    if self.__column is None:\n",
        "      return\n",
        "\n",
        "    return self.__node_list[x[0,self.__column]].__pred(np.delete(x,self.__column,axis=1))\n",
        "  \n",
        "  def predict(self,x):\n",
        "    if self.__value is None and self.__column is None:\n",
        "      raise Exception(\"You have to train the model first\")\n",
        "    \n",
        "    if type(x) is not np.ndarray:\n",
        "      raise Exception(\"Input Invalid. Input must be numpy 2 dimensional array\")\n",
        "    result = []\n",
        "\n",
        "    for i in x:\n",
        "      result.append(self.__pred(np.reshape(i,(1,-1))))\n",
        "    return result\n",
        "  \n",
        "  ### Method for visualizing the decision tree\n",
        "  def __helpvis(self,graph,num,prev_num=None,edgeName=None,labels=None):\n",
        "    if self.__value is None and self.__column is None:\n",
        "      return (graph,num)\n",
        "    \n",
        "    if self.__value != None:\n",
        "      graph.node(str(num),label=str(self.__value),shape=\"rect\",color=\"green\")\n",
        "      if prev_num is not None:\n",
        "        graph.edge(str(prev_num),str(num),label=edgeName)\n",
        "      return (graph,num+1)\n",
        "    \n",
        "    if labels is not None:\n",
        "      lb = labels[self.__column]\n",
        "    else:\n",
        "      lb = str(num)\n",
        "    graph.node(str(num),label=lb)\n",
        "\n",
        "    if prev_num is not None:\n",
        "      graph.edge(str(prev_num),str(num),label=edgeName)\n",
        "\n",
        "    p_num=num\n",
        "    num=num+1\n",
        "    for i,j in self.__node_list.items():\n",
        "      if labels is not None:\n",
        "        temp_labels = np.delete(labels,self.__column)\n",
        "      else:\n",
        "        temp_labels=None\n",
        "      graph,num=j.__helpvis(graph,num,p_num,edgeName=str(i),labels=temp_labels)\n",
        "    return (graph,num+1)\n",
        "  \n",
        "  def visualize(self,labels=None):\n",
        "    if self.__value is None and self.__column is None:\n",
        "      raise Exception(\"You have to train the model first\")\n",
        "    graph = Digraph()\n",
        "    graph= self.__helpvis(graph=graph,num=0,labels=labels)[0]\n",
        "    return graph"
      ],
      "metadata": {
        "id": "mRWUmgrgpnpB"
      },
      "execution_count": null,
      "outputs": []
    },
    {
      "cell_type": "code",
      "source": [
        "model = DecisionTreeClassifier(\"CART\")\n",
        "#model.fit(np.array([[0,0],[0,1],[1,0],[1,1]]),np.array([0,0,0,1]))\n",
        "X_train = np.array([[0,0,0],[0,0,1],[0,1,0],[0,1,1],[1,0,0],[1,0,1],[1,1,0],[1,1,1]])\n",
        "y = np.array([1,1,0,0,1,1,1,1])\n",
        "model.fit(X_train,y)\n",
        "model.predict(np.array([[1,1,0]]))"
      ],
      "metadata": {
        "id": "jO2HwkqGrsGC",
        "colab": {
          "base_uri": "https://localhost:8080/"
        },
        "outputId": "0361a050-f0d1-42a2-86c9-127d1f19bd03"
      },
      "execution_count": null,
      "outputs": [
        {
          "output_type": "stream",
          "name": "stdout",
          "text": [
            "Model Training is done\n"
          ]
        },
        {
          "output_type": "execute_result",
          "data": {
            "text/plain": [
              "[1]"
            ]
          },
          "metadata": {},
          "execution_count": 3
        }
      ]
    },
    {
      "cell_type": "code",
      "source": [
        "model.visualize(labels=[\"X1\",\"X2\",\"X3\"])"
      ],
      "metadata": {
        "colab": {
          "base_uri": "https://localhost:8080/",
          "height": 312
        },
        "id": "hnZZCst8yJgf",
        "outputId": "bca5a9f9-b278-4f6c-e824-a4fcf1d71afd"
      },
      "execution_count": null,
      "outputs": [
        {
          "output_type": "execute_result",
          "data": {
            "text/plain": [
              "<graphviz.dot.Digraph at 0x7f080d7fff90>"
            ],
            "image/svg+xml": "<?xml version=\"1.0\" encoding=\"UTF-8\" standalone=\"no\"?>\n<!DOCTYPE svg PUBLIC \"-//W3C//DTD SVG 1.1//EN\"\n \"http://www.w3.org/Graphics/SVG/1.1/DTD/svg11.dtd\">\n<!-- Generated by graphviz version 2.40.1 (20161225.0304)\n -->\n<!-- Title: %3 Pages: 1 -->\n<svg width=\"170pt\" height=\"218pt\"\n viewBox=\"0.00 0.00 170.00 218.00\" xmlns=\"http://www.w3.org/2000/svg\" xmlns:xlink=\"http://www.w3.org/1999/xlink\">\n<g id=\"graph0\" class=\"graph\" transform=\"scale(1 1) rotate(0) translate(4 214)\">\n<title>%3</title>\n<polygon fill=\"#ffffff\" stroke=\"transparent\" points=\"-4,4 -4,-214 166,-214 166,4 -4,4\"/>\n<!-- 0 -->\n<g id=\"node1\" class=\"node\">\n<title>0</title>\n<ellipse fill=\"none\" stroke=\"#000000\" cx=\"117\" cy=\"-192\" rx=\"27\" ry=\"18\"/>\n<text text-anchor=\"middle\" x=\"117\" y=\"-188.3\" font-family=\"Times,serif\" font-size=\"14.00\" fill=\"#000000\">X1</text>\n</g>\n<!-- 1 -->\n<g id=\"node2\" class=\"node\">\n<title>1</title>\n<ellipse fill=\"none\" stroke=\"#000000\" cx=\"63\" cy=\"-105\" rx=\"27\" ry=\"18\"/>\n<text text-anchor=\"middle\" x=\"63\" y=\"-101.3\" font-family=\"Times,serif\" font-size=\"14.00\" fill=\"#000000\">X2</text>\n</g>\n<!-- 0&#45;&gt;1 -->\n<g id=\"edge1\" class=\"edge\">\n<title>0&#45;&gt;1</title>\n<path fill=\"none\" stroke=\"#000000\" d=\"M106.5883,-175.2255C98.6696,-162.4677 87.6429,-144.7024 78.6615,-130.2325\"/>\n<polygon fill=\"#000000\" stroke=\"#000000\" points=\"81.6272,-128.3736 73.3798,-121.723 75.6797,-132.0652 81.6272,-128.3736\"/>\n<text text-anchor=\"middle\" x=\"98\" y=\"-144.8\" font-family=\"Times,serif\" font-size=\"14.00\" fill=\"#000000\">0</text>\n</g>\n<!-- 5 -->\n<g id=\"node5\" class=\"node\">\n<title>5</title>\n<polygon fill=\"none\" stroke=\"#00ff00\" points=\"162,-123 108,-123 108,-87 162,-87 162,-123\"/>\n<text text-anchor=\"middle\" x=\"135\" y=\"-101.3\" font-family=\"Times,serif\" font-size=\"14.00\" fill=\"#000000\">1</text>\n</g>\n<!-- 0&#45;&gt;5 -->\n<g id=\"edge4\" class=\"edge\">\n<title>0&#45;&gt;5</title>\n<path fill=\"none\" stroke=\"#000000\" d=\"M120.7296,-173.9735C123.1672,-162.1918 126.4012,-146.5607 129.1742,-133.1581\"/>\n<polygon fill=\"#000000\" stroke=\"#000000\" points=\"132.6764,-133.5051 131.2752,-123.0034 125.8216,-132.0868 132.6764,-133.5051\"/>\n<text text-anchor=\"middle\" x=\"131\" y=\"-144.8\" font-family=\"Times,serif\" font-size=\"14.00\" fill=\"#000000\">1</text>\n</g>\n<!-- 2 -->\n<g id=\"node3\" class=\"node\">\n<title>2</title>\n<polygon fill=\"none\" stroke=\"#00ff00\" points=\"54,-36 0,-36 0,0 54,0 54,-36\"/>\n<text text-anchor=\"middle\" x=\"27\" y=\"-14.3\" font-family=\"Times,serif\" font-size=\"14.00\" fill=\"#000000\">1</text>\n</g>\n<!-- 1&#45;&gt;2 -->\n<g id=\"edge2\" class=\"edge\">\n<title>1&#45;&gt;2</title>\n<path fill=\"none\" stroke=\"#000000\" d=\"M55.7149,-87.3943C50.755,-75.408 44.0887,-59.2978 38.4277,-45.617\"/>\n<polygon fill=\"#000000\" stroke=\"#000000\" points=\"41.5798,-44.0804 34.5221,-36.1785 35.1116,-46.7569 41.5798,-44.0804\"/>\n<text text-anchor=\"middle\" x=\"52\" y=\"-57.8\" font-family=\"Times,serif\" font-size=\"14.00\" fill=\"#000000\">0</text>\n</g>\n<!-- 3 -->\n<g id=\"node4\" class=\"node\">\n<title>3</title>\n<polygon fill=\"none\" stroke=\"#00ff00\" points=\"126,-36 72,-36 72,0 126,0 126,-36\"/>\n<text text-anchor=\"middle\" x=\"99\" y=\"-14.3\" font-family=\"Times,serif\" font-size=\"14.00\" fill=\"#000000\">0</text>\n</g>\n<!-- 1&#45;&gt;3 -->\n<g id=\"edge3\" class=\"edge\">\n<title>1&#45;&gt;3</title>\n<path fill=\"none\" stroke=\"#000000\" d=\"M70.2851,-87.3943C75.245,-75.408 81.9113,-59.2978 87.5723,-45.617\"/>\n<polygon fill=\"#000000\" stroke=\"#000000\" points=\"90.8884,-46.7569 91.4779,-36.1785 84.4202,-44.0804 90.8884,-46.7569\"/>\n<text text-anchor=\"middle\" x=\"88\" y=\"-57.8\" font-family=\"Times,serif\" font-size=\"14.00\" fill=\"#000000\">1</text>\n</g>\n</g>\n</svg>\n"
          },
          "metadata": {},
          "execution_count": 4
        }
      ]
    },
    {
      "cell_type": "code",
      "source": [
        "from google.colab import drive\n",
        "drive.mount('/content/drive')\n",
        "X = pd.read_csv(\"/content/drive/MyDrive/sample/PlayTennis_Train.csv\")\n",
        "y = X.iloc[:,-1].to_numpy(dtype=str)\n",
        "X = X.iloc[:,0:4]\n",
        "columns = X.columns.to_numpy(dtype=str)\n",
        "X = X.to_numpy(dtype=str)"
      ],
      "metadata": {
        "id": "RUbdratMD_HO",
        "colab": {
          "base_uri": "https://localhost:8080/"
        },
        "outputId": "24fcd8a6-4934-433b-c67c-584792702e58"
      },
      "execution_count": null,
      "outputs": [
        {
          "output_type": "stream",
          "name": "stdout",
          "text": [
            "Drive already mounted at /content/drive; to attempt to forcibly remount, call drive.mount(\"/content/drive\", force_remount=True).\n"
          ]
        }
      ]
    },
    {
      "cell_type": "code",
      "source": [
        "model = DecisionTreeClassifier(\"C4.5\")\n",
        "model.fit(X,y)\n",
        "model.visualize(columns)\n",
        "model.predict(X)"
      ],
      "metadata": {
        "colab": {
          "base_uri": "https://localhost:8080/"
        },
        "id": "Ifg2olmGGiOg",
        "outputId": "4dbdccd8-4d7c-4efe-e727-1d74b2f2b507"
      },
      "execution_count": null,
      "outputs": [
        {
          "output_type": "stream",
          "name": "stdout",
          "text": [
            "Model Training is done\n"
          ]
        },
        {
          "output_type": "execute_result",
          "data": {
            "text/plain": [
              "['No',\n",
              " 'No',\n",
              " 'Yes',\n",
              " 'Yes',\n",
              " 'Yes',\n",
              " 'No',\n",
              " 'Yes',\n",
              " 'No',\n",
              " 'Yes',\n",
              " 'Yes',\n",
              " 'Yes',\n",
              " 'Yes',\n",
              " 'Yes',\n",
              " 'No']"
            ]
          },
          "metadata": {},
          "execution_count": 11
        }
      ]
    },
    {
      "cell_type": "code",
      "source": [
        "model.visualize(columns)"
      ],
      "metadata": {
        "colab": {
          "base_uri": "https://localhost:8080/",
          "height": 312
        },
        "id": "VLOkJfxTEcYM",
        "outputId": "435ab621-ae4c-4bf0-9485-2644283981ef"
      },
      "execution_count": null,
      "outputs": [
        {
          "output_type": "execute_result",
          "data": {
            "text/plain": [
              "<graphviz.dot.Digraph at 0x7f080cf0b650>"
            ],
            "image/svg+xml": "<?xml version=\"1.0\" encoding=\"UTF-8\" standalone=\"no\"?>\n<!DOCTYPE svg PUBLIC \"-//W3C//DTD SVG 1.1//EN\"\n \"http://www.w3.org/Graphics/SVG/1.1/DTD/svg11.dtd\">\n<!-- Generated by graphviz version 2.40.1 (20161225.0304)\n -->\n<!-- Title: %3 Pages: 1 -->\n<svg width=\"300pt\" height=\"218pt\"\n viewBox=\"0.00 0.00 300.00 218.00\" xmlns=\"http://www.w3.org/2000/svg\" xmlns:xlink=\"http://www.w3.org/1999/xlink\">\n<g id=\"graph0\" class=\"graph\" transform=\"scale(1 1) rotate(0) translate(4 214)\">\n<title>%3</title>\n<polygon fill=\"#ffffff\" stroke=\"transparent\" points=\"-4,4 -4,-214 296,-214 296,4 -4,4\"/>\n<!-- 0 -->\n<g id=\"node1\" class=\"node\">\n<title>0</title>\n<ellipse fill=\"none\" stroke=\"#000000\" cx=\"103\" cy=\"-192\" rx=\"42.4939\" ry=\"18\"/>\n<text text-anchor=\"middle\" x=\"103\" y=\"-188.3\" font-family=\"Times,serif\" font-size=\"14.00\" fill=\"#000000\">Outlook</text>\n</g>\n<!-- 1 -->\n<g id=\"node2\" class=\"node\">\n<title>1</title>\n<polygon fill=\"none\" stroke=\"#00ff00\" points=\"54,-123 0,-123 0,-87 54,-87 54,-123\"/>\n<text text-anchor=\"middle\" x=\"27\" y=\"-101.3\" font-family=\"Times,serif\" font-size=\"14.00\" fill=\"#000000\">Yes</text>\n</g>\n<!-- 0&#45;&gt;1 -->\n<g id=\"edge1\" class=\"edge\">\n<title>0&#45;&gt;1</title>\n<path fill=\"none\" stroke=\"#000000\" d=\"M75.8768,-178.1737C66.4276,-172.3349 56.36,-164.8268 49,-156 43.3805,-149.2605 38.9762,-140.8681 35.6333,-132.8495\"/>\n<polygon fill=\"#000000\" stroke=\"#000000\" points=\"38.8709,-131.5155 32.0717,-123.3902 32.3199,-133.9821 38.8709,-131.5155\"/>\n<text text-anchor=\"middle\" x=\"74\" y=\"-144.8\" font-family=\"Times,serif\" font-size=\"14.00\" fill=\"#000000\">Overcast</text>\n</g>\n<!-- 2 -->\n<g id=\"node3\" class=\"node\">\n<title>2</title>\n<ellipse fill=\"none\" stroke=\"#000000\" cx=\"103\" cy=\"-105\" rx=\"31.3957\" ry=\"18\"/>\n<text text-anchor=\"middle\" x=\"103\" y=\"-101.3\" font-family=\"Times,serif\" font-size=\"14.00\" fill=\"#000000\">Wind</text>\n</g>\n<!-- 0&#45;&gt;2 -->\n<g id=\"edge2\" class=\"edge\">\n<title>0&#45;&gt;2</title>\n<path fill=\"none\" stroke=\"#000000\" d=\"M103,-173.9735C103,-162.1918 103,-146.5607 103,-133.1581\"/>\n<polygon fill=\"#000000\" stroke=\"#000000\" points=\"106.5001,-133.0033 103,-123.0034 99.5001,-133.0034 106.5001,-133.0033\"/>\n<text text-anchor=\"middle\" x=\"117\" y=\"-144.8\" font-family=\"Times,serif\" font-size=\"14.00\" fill=\"#000000\">Rain</text>\n</g>\n<!-- 6 -->\n<g id=\"node6\" class=\"node\">\n<title>6</title>\n<ellipse fill=\"none\" stroke=\"#000000\" cx=\"199\" cy=\"-105\" rx=\"46.5926\" ry=\"18\"/>\n<text text-anchor=\"middle\" x=\"199\" y=\"-101.3\" font-family=\"Times,serif\" font-size=\"14.00\" fill=\"#000000\">Humidity</text>\n</g>\n<!-- 0&#45;&gt;6 -->\n<g id=\"edge5\" class=\"edge\">\n<title>0&#45;&gt;6</title>\n<path fill=\"none\" stroke=\"#000000\" d=\"M121.0569,-175.636C135.7132,-162.3537 156.5709,-143.4514 173.0221,-128.5425\"/>\n<polygon fill=\"#000000\" stroke=\"#000000\" points=\"175.6381,-130.8951 180.6977,-121.5865 170.9375,-125.7082 175.6381,-130.8951\"/>\n<text text-anchor=\"middle\" x=\"176.5\" y=\"-144.8\" font-family=\"Times,serif\" font-size=\"14.00\" fill=\"#000000\">Sunny</text>\n</g>\n<!-- 3 -->\n<g id=\"node4\" class=\"node\">\n<title>3</title>\n<polygon fill=\"none\" stroke=\"#00ff00\" points=\"64,-36 10,-36 10,0 64,0 64,-36\"/>\n<text text-anchor=\"middle\" x=\"37\" y=\"-14.3\" font-family=\"Times,serif\" font-size=\"14.00\" fill=\"#000000\">No</text>\n</g>\n<!-- 2&#45;&gt;3 -->\n<g id=\"edge3\" class=\"edge\">\n<title>2&#45;&gt;3</title>\n<path fill=\"none\" stroke=\"#000000\" d=\"M83.5503,-90.6192C76.1785,-84.5179 68.1006,-76.9751 62,-69 56.6332,-61.9842 51.9613,-53.6339 48.155,-45.7419\"/>\n<polygon fill=\"#000000\" stroke=\"#000000\" points=\"51.2667,-44.1288 43.953,-36.4633 44.8901,-47.0166 51.2667,-44.1288\"/>\n<text text-anchor=\"middle\" x=\"82\" y=\"-57.8\" font-family=\"Times,serif\" font-size=\"14.00\" fill=\"#000000\">Strong</text>\n</g>\n<!-- 4 -->\n<g id=\"node5\" class=\"node\">\n<title>4</title>\n<polygon fill=\"none\" stroke=\"#00ff00\" points=\"136,-36 82,-36 82,0 136,0 136,-36\"/>\n<text text-anchor=\"middle\" x=\"109\" y=\"-14.3\" font-family=\"Times,serif\" font-size=\"14.00\" fill=\"#000000\">Yes</text>\n</g>\n<!-- 2&#45;&gt;4 -->\n<g id=\"edge4\" class=\"edge\">\n<title>2&#45;&gt;4</title>\n<path fill=\"none\" stroke=\"#000000\" d=\"M104.2432,-86.9735C105.0557,-75.1918 106.1337,-59.5607 107.0581,-46.1581\"/>\n<polygon fill=\"#000000\" stroke=\"#000000\" points=\"110.562,-46.2205 107.7584,-36.0034 103.5786,-45.7388 110.562,-46.2205\"/>\n<text text-anchor=\"middle\" x=\"123.5\" y=\"-57.8\" font-family=\"Times,serif\" font-size=\"14.00\" fill=\"#000000\">Weak</text>\n</g>\n<!-- 7 -->\n<g id=\"node7\" class=\"node\">\n<title>7</title>\n<polygon fill=\"none\" stroke=\"#00ff00\" points=\"220,-36 166,-36 166,0 220,0 220,-36\"/>\n<text text-anchor=\"middle\" x=\"193\" y=\"-14.3\" font-family=\"Times,serif\" font-size=\"14.00\" fill=\"#000000\">No</text>\n</g>\n<!-- 6&#45;&gt;7 -->\n<g id=\"edge6\" class=\"edge\">\n<title>6&#45;&gt;7</title>\n<path fill=\"none\" stroke=\"#000000\" d=\"M197.7568,-86.9735C196.9443,-75.1918 195.8663,-59.5607 194.9419,-46.1581\"/>\n<polygon fill=\"#000000\" stroke=\"#000000\" points=\"198.4214,-45.7388 194.2416,-36.0034 191.438,-46.2205 198.4214,-45.7388\"/>\n<text text-anchor=\"middle\" x=\"212\" y=\"-57.8\" font-family=\"Times,serif\" font-size=\"14.00\" fill=\"#000000\">High</text>\n</g>\n<!-- 8 -->\n<g id=\"node8\" class=\"node\">\n<title>8</title>\n<polygon fill=\"none\" stroke=\"#00ff00\" points=\"292,-36 238,-36 238,0 292,0 292,-36\"/>\n<text text-anchor=\"middle\" x=\"265\" y=\"-14.3\" font-family=\"Times,serif\" font-size=\"14.00\" fill=\"#000000\">Yes</text>\n</g>\n<!-- 6&#45;&gt;8 -->\n<g id=\"edge7\" class=\"edge\">\n<title>6&#45;&gt;8</title>\n<path fill=\"none\" stroke=\"#000000\" d=\"M215.127,-87.8379C220.3688,-82.0062 226.0951,-75.355 231,-69 236.8578,-61.4105 242.8036,-52.8463 248.0499,-44.9336\"/>\n<polygon fill=\"#000000\" stroke=\"#000000\" points=\"251.1073,-46.6524 253.634,-36.3633 245.2424,-42.831 251.1073,-46.6524\"/>\n<text text-anchor=\"middle\" x=\"263\" y=\"-57.8\" font-family=\"Times,serif\" font-size=\"14.00\" fill=\"#000000\">Normal</text>\n</g>\n</g>\n</svg>\n"
          },
          "metadata": {},
          "execution_count": 12
        }
      ]
    },
    {
      "cell_type": "code",
      "source": [
        "data = np.array([[1,2,3],[4,5,6]])"
      ],
      "metadata": {
        "colab": {
          "base_uri": "https://localhost:8080/"
        },
        "id": "RCTK4RFD7fFt",
        "outputId": "bc368e96-1145-4384-d01b-9fa52dbc048e"
      },
      "execution_count": null,
      "outputs": [
        {
          "output_type": "stream",
          "name": "stdout",
          "text": [
            "[1 2 3 4 5 6]\n"
          ]
        }
      ]
    }
  ]
}